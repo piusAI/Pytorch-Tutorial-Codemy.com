{
  "nbformat": 4,
  "nbformat_minor": 0,
  "metadata": {
    "colab": {
      "provenance": [],
      "authorship_tag": "ABX9TyOHiLQRCaiENj6sqVoYxpJn",
      "include_colab_link": true
    },
    "kernelspec": {
      "name": "python3",
      "display_name": "Python 3"
    },
    "language_info": {
      "name": "python"
    }
  },
  "cells": [
    {
      "cell_type": "markdown",
      "metadata": {
        "id": "view-in-github",
        "colab_type": "text"
      },
      "source": [
        "<a href=\"https://colab.research.google.com/github/piusAI/Pytorch-Tutorial-Codemy.com/blob/main/02%20Tensors.ipynb\" target=\"_parent\"><img src=\"https://colab.research.google.com/assets/colab-badge.svg\" alt=\"Open In Colab\"/></a>"
      ]
    },
    {
      "cell_type": "markdown",
      "source": [
        "# Tensors\n",
        "- A **torch.Tensor** is a multi-dimensional Matrix Containing elemets of a single data type.\n",
        "\n",
        " => Scalar일 수 있음\n",
        "\n",
        "- similar to Numpy Arrays, but full of fun things that make them work better on GPU's (vs regular CPU's)\n",
        "- Defulat Datat type of float 32.\n",
        "- More suitable For deep learning than a numpy array."
      ],
      "metadata": {
        "id": "noRNiANUk-du"
      }
    },
    {
      "cell_type": "code",
      "source": [
        "import torch\n",
        "import numpy as np"
      ],
      "metadata": {
        "id": "_HCUoAZylT5Z"
      },
      "execution_count": null,
      "outputs": []
    },
    {
      "cell_type": "markdown",
      "source": [
        "# List"
      ],
      "metadata": {
        "id": "w8qHDi2KmYPD"
      }
    },
    {
      "cell_type": "code",
      "source": [
        "my_list=[1, 2, 3, 4]\n",
        "my_list2=[[1,2,3,4],[5,2,5,7],[2,3,4,5]]\n",
        "\n",
        "print(my_list)\n",
        "print(my_list2)\n"
      ],
      "metadata": {
        "colab": {
          "base_uri": "https://localhost:8080/"
        },
        "id": "UJyraHKMlVoe",
        "outputId": "2d524108-6c9c-4799-da97-a77c42844d2e"
      },
      "execution_count": null,
      "outputs": [
        {
          "output_type": "stream",
          "name": "stdout",
          "text": [
            "[1, 2, 3, 4]\n",
            "[[1, 2, 3, 4], [5, 2, 5, 7], [2, 3, 4, 5]]\n"
          ]
        }
      ]
    },
    {
      "cell_type": "markdown",
      "source": [
        "# Numpy Arrays"
      ],
      "metadata": {
        "id": "0xvrEt-2m4q2"
      }
    },
    {
      "cell_type": "code",
      "source": [
        "np1=np.random.choice(range(1,32),size=(3,4))\n",
        "print(str(np1)+ \"\\n\" +str(np1.dtype))\n",
        "\n",
        "np2=np.random.rand(3,4)\n",
        "print(\"\\n\"+str(np2))\n",
        "print(np2.dtype)\n"
      ],
      "metadata": {
        "colab": {
          "base_uri": "https://localhost:8080/"
        },
        "id": "LXDTqek2m8pm",
        "outputId": "1d466f1a-6a8f-4cd3-9983-fd5c4797bea8"
      },
      "execution_count": null,
      "outputs": [
        {
          "output_type": "stream",
          "name": "stdout",
          "text": [
            "[[ 4 11 26 30]\n",
            " [21  6  9 23]\n",
            " [ 6 29 28  2]]\n",
            "int64\n",
            "\n",
            "[[0.02999598 0.63329702 0.97653302 0.45864545]\n",
            " [0.12210615 0.72345196 0.04247802 0.95416669]\n",
            " [0.41124821 0.51714426 0.18629775 0.98032876]]\n",
            "float64\n"
          ]
        }
      ]
    },
    {
      "cell_type": "markdown",
      "source": [
        "# Tensors\n",
        "- More Familiar DL"
      ],
      "metadata": {
        "id": "PP4IA-wfn7lm"
      }
    },
    {
      "cell_type": "code",
      "source": [
        "tensor_2d=torch.randn(3,4)\n",
        "print(tensor_2d)\n",
        "print(tensor_2d.dtype)"
      ],
      "metadata": {
        "colab": {
          "base_uri": "https://localhost:8080/"
        },
        "id": "7SOAQNAan8ZB",
        "outputId": "913c2cba-66f7-40ac-daa7-fcc74e9d7582"
      },
      "execution_count": null,
      "outputs": [
        {
          "output_type": "stream",
          "name": "stdout",
          "text": [
            "tensor([[-0.7453, -0.9051, -1.6139,  0.1689],\n",
            "        [-0.4045,  1.5307,  0.1340,  1.1083],\n",
            "        [-0.0554,  2.2330, -1.0039, -0.1433]])\n",
            "torch.float32\n"
          ]
        }
      ]
    },
    {
      "cell_type": "code",
      "source": [
        "tensor_3d= torch.zeros(2,3,4)\n",
        "\n",
        "print(tensor_3d)\n",
        "print(tensor_3d.shape)\n",
        "\n",
        "# Depth :2\n",
        "# rows : 3\n",
        "# Columns : 4"
      ],
      "metadata": {
        "colab": {
          "base_uri": "https://localhost:8080/"
        },
        "id": "mIu16VuNoEB3",
        "outputId": "0543c7b9-9cdd-4310-bace-0bdba5c00369"
      },
      "execution_count": null,
      "outputs": [
        {
          "output_type": "stream",
          "name": "stdout",
          "text": [
            "tensor([[[0., 0., 0., 0.],\n",
            "         [0., 0., 0., 0.],\n",
            "         [0., 0., 0., 0.]],\n",
            "\n",
            "        [[0., 0., 0., 0.],\n",
            "         [0., 0., 0., 0.],\n",
            "         [0., 0., 0., 0.]]])\n",
            "torch.Size([2, 3, 4])\n"
          ]
        }
      ]
    },
    {
      "cell_type": "markdown",
      "source": [],
      "metadata": {
        "id": "H37Q3BYnpkV0"
      }
    },
    {
      "cell_type": "code",
      "source": [
        "## Create tensor out of numpy array\n",
        "\n",
        "my_tensor = torch.tensor(np2)\n",
        "print(my_tensor)"
      ],
      "metadata": {
        "colab": {
          "base_uri": "https://localhost:8080/"
        },
        "id": "aFdaXdbBoqSL",
        "outputId": "6a53fee8-65b0-4a39-e09e-6ad175d084c7"
      },
      "execution_count": null,
      "outputs": [
        {
          "output_type": "stream",
          "name": "stdout",
          "text": [
            "tensor([[0.0300, 0.6333, 0.9765, 0.4586],\n",
            "        [0.1221, 0.7235, 0.0425, 0.9542],\n",
            "        [0.4112, 0.5171, 0.1863, 0.9803]], dtype=torch.float64)\n"
          ]
        }
      ]
    },
    {
      "cell_type": "code",
      "source": [
        "#Check The Type\n",
        "\n",
        "print(\"[Original tensor] :\" +str(tensor_3d.dtype))\n",
        "print(\"[exchange NP to tensor] :\" +str(my_tensor.dtype))"
      ],
      "metadata": {
        "colab": {
          "base_uri": "https://localhost:8080/"
        },
        "id": "HKEdlMWTpTN-",
        "outputId": "6ab432eb-dddb-465f-d39b-75815427646c"
      },
      "execution_count": null,
      "outputs": [
        {
          "output_type": "stream",
          "name": "stdout",
          "text": [
            "[Original tensor] :torch.float32\n",
            "[exchange NP to tensor] :torch.float64\n"
          ]
        }
      ]
    },
    {
      "cell_type": "markdown",
      "source": [
        "Check This => [Tensor Documentation](https://docs.pytorch.org/docs/stable/tensors.html)\n",
        "\n",
        "Tensor Hold the data in DL!"
      ],
      "metadata": {
        "id": "hbfiIHGIrC2A"
      }
    },
    {
      "cell_type": "markdown",
      "source": [],
      "metadata": {
        "id": "XkpEKFo0pX3r"
      }
    }
  ]
}
